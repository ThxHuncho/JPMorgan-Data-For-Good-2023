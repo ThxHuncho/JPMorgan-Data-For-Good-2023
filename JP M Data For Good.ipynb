{
 "cells": [
  {
   "cell_type": "code",
   "execution_count": 1,
   "id": "a9484a75",
   "metadata": {},
   "outputs": [],
   "source": [
    "import pandas as pd \n",
    "import bamboolib as bam\n",
    "import plotly.express as px\n",
    "import numpy as np\n"
   ]
  },
  {
   "cell_type": "code",
   "execution_count": 2,
   "id": "67ad3be8",
   "metadata": {},
   "outputs": [],
   "source": [
    "BusAcc = pd.read_excel(r'/Users/kingced/Desktop/JP Morgan Data For Good/Business Account.xlsx')\n",
    "BusAcc = BusAcc.loc[~(BusAcc['Created On'] < '2020-12-31')]"
   ]
  },
  {
   "cell_type": "code",
   "execution_count": 3,
   "id": "af17aee6",
   "metadata": {},
   "outputs": [],
   "source": [
    "Opport = pd.read_excel(r'/Users/kingced/Desktop/JP Morgan Data For Good/Opportunities.xlsx')\n",
    "Opport = Opport.loc[~(Opport['Created On'] < '2020-12-31')]"
   ]
  },
  {
   "cell_type": "code",
   "execution_count": 4,
   "id": "1177697d",
   "metadata": {},
   "outputs": [],
   "source": [
    "ItnOpp = pd.read_excel(r'/Users/kingced/Desktop/JP Morgan Data For Good/Items and Opportunities.xlsx')"
   ]
  },
  {
   "cell_type": "code",
   "execution_count": 21,
   "id": "984ade03",
   "metadata": {
    "scrolled": true
   },
   "outputs": [],
   "source": [
    "# Step: Left Join with BusAcc where Business Account=Business Account\n",
    "df = pd.merge(Opport, BusAcc, how='left', on=['Business Account'])"
   ]
  },
  {
   "cell_type": "code",
   "execution_count": 22,
   "id": "2c1da4d7",
   "metadata": {},
   "outputs": [],
   "source": [
    "df['Occu']=df.groupby('Business Account')['Business Account'].transform('count')"
   ]
  },
  {
   "cell_type": "code",
   "execution_count": 23,
   "id": "8a0221fc",
   "metadata": {},
   "outputs": [
    {
     "data": {
      "application/vnd.jupyter.widget-view+json": {
       "model_id": "6252afbc33c845b9b63c745908063e93"
      },
      "text/plain": [
       "     Business Account Partner type          Class Name  \\\n",
       "0              C00037      Partner        Headquarters   \n",
       "1              C01254      Partner  Regional direction   \n",
       "2              C21512          NaN                 NaN   \n",
       "3              C21509          NaN                 NaN   \n",
       "4              C21508          NaN                 NaN   \n",
       "...               ...          ...                 ...   \n",
       "5981           C00036      Partner        Headquarters   \n",
       "5982           C00024      Partner          Foundation   \n",
       "5983           C00011      Partner        Headquarters   \n",
       "5984           C00331      Partner          Foundation   \n",
       "5985           C00331      Partner          Foundation   \n",
       "\n",
       "                                        Activity sector                 City  \\\n",
       "0     LAW - ECONOMICS - MANAGEMENT - Accounting, Man...                 LYON   \n",
       "1     INSURANCE - BANKING - Banking, Insurance, Fina...                 LYON   \n",
       "2                                                   NaN                  NaN   \n",
       "3                                                   NaN                  NaN   \n",
       "4                                                   NaN                  NaN   \n",
       "...                                                 ...                  ...   \n",
       "5981  PUBLIC SECTOR - Political & Administrative Ser...       PARIS CEDEX 08   \n",
       "5982                     INDUSTRIES - Chemical industry                PARIS   \n",
       "5983                         HOTEL - CATERING - TOURISM  ISSY-LES-MOULINEAUX   \n",
       "5984  INSURANCE - BANKING - Banking, Insurance, Fina...           CARPENTRAS   \n",
       "5985  INSURANCE - BANKING - Banking, Insurance, Fina...           CARPENTRAS   \n",
       "\n",
       "      Amount received  Estimated amount Type de financement  \n",
       "0                 NaN            9000.0                 NaN  \n",
       "1                 NaN            9000.0                 NaN  \n",
       "2                 NaN             140.0      Fonctionnement  \n",
       "3                 NaN             350.0      Fonctionnement  \n",
       "4                 NaN             120.0      Fonctionnement  \n",
       "...               ...               ...                 ...  \n",
       "5981              NaN            1059.0      Fonctionnement  \n",
       "5982           7500.0            7500.0      Fonctionnement  \n",
       "5983              NaN           35000.0      Fonctionnement  \n",
       "5984              NaN           20000.0      Investissement  \n",
       "5985              NaN           10000.0      Fonctionnement  \n",
       "\n",
       "[5986 rows x 8 columns]"
      ]
     },
     "metadata": {},
     "output_type": "display_data"
    },
    {
     "name": "stderr",
     "output_type": "stream",
     "text": [
      "No such comm: ef64b89076494f81a1d01b3ba4c7a90b\n"
     ]
    }
   ],
   "source": [
    "# Step: Select columns\n",
    "df_4_Model = df[['Business Account','Partner type', 'Class Name', 'Activity sector', 'City', 'Amount received','Estimated amount', 'Type de financement']]\n",
    "df_4_Model"
   ]
  },
  {
   "cell_type": "code",
   "execution_count": 24,
   "id": "1fe9cc2d",
   "metadata": {},
   "outputs": [],
   "source": [
    "\n",
    "import pandas as pd; import numpy as np\n",
    "# Step: Group by and aggregate\n",
    "df_4_Model = df_4_Model.groupby(['Business Account']).agg({**{'Amount received': ['mean']}, **{col: ['first'] for col in df_4_Model.select_dtypes(['object']).columns}})\n",
    "df_4_Model.columns = ['_'.join(multi_index) for multi_index in df_4_Model.columns.ravel()]\n",
    "df_4_Model = df_4_Model.reset_index()\n",
    "\n",
    "# Step: Drop columns\n",
    "df_4_Model = df_4_Model\n",
    "df=df_4_Model"
   ]
  },
  {
   "cell_type": "code",
   "execution_count": 25,
   "id": "18ae0f9f",
   "metadata": {},
   "outputs": [
    {
     "data": {
      "application/vnd.jupyter.widget-view+json": {
       "model_id": "ba90a4ac25ac4eeaa19786fc3af19049"
      },
      "text/plain": [
       "     Business Account  Amount received_mean Business Account_first  \\\n",
       "0              C00001                4800.0                 C00001   \n",
       "1              C00002                 183.0                 C00002   \n",
       "2              C00004                9000.0                 C00004   \n",
       "3              C00005                   0.0                 C00005   \n",
       "4              C00011                 389.0                 C00011   \n",
       "...               ...                   ...                    ...   \n",
       "2058           C21527                   0.0                 C21527   \n",
       "2059           C21528                   0.0                 C21528   \n",
       "2060           C21529                   0.0                 C21529   \n",
       "2061           C21530                   0.0                 C21530   \n",
       "2062           C21537                   0.0                 C21537   \n",
       "\n",
       "     Partner type_first Class Name_first  \\\n",
       "0               Partner       Foundation   \n",
       "1                  None             None   \n",
       "2               Partner     Headquarters   \n",
       "3                  None             None   \n",
       "4               Partner     Headquarters   \n",
       "...                 ...              ...   \n",
       "2058               None             None   \n",
       "2059               None             None   \n",
       "2060               None             None   \n",
       "2061               None             None   \n",
       "2062               None             None   \n",
       "\n",
       "                                  Activity sector_first           City_first  \\\n",
       "0     HEALTH - SOCIAL - Social, Associations, Founda...                 LYON   \n",
       "1                                                  None                 Lyon   \n",
       "2     BUSINESS ADMINISTRATION - Consulting, Audit, A...                PARIS   \n",
       "3                                                  None        Non renseigné   \n",
       "4                            HOTEL - CATERING - TOURISM  ISSY-LES-MOULINEAUX   \n",
       "...                                                 ...                  ...   \n",
       "2058                                               None                 None   \n",
       "2059                                               None                 None   \n",
       "2060                                               None                 None   \n",
       "2061                                               None                 None   \n",
       "2062                                               None                 None   \n",
       "\n",
       "     Type de financement_first  \n",
       "0               Fonctionnement  \n",
       "1                         None  \n",
       "2                         None  \n",
       "3                         None  \n",
       "4               Fonctionnement  \n",
       "...                        ...  \n",
       "2058            Fonctionnement  \n",
       "2059            Fonctionnement  \n",
       "2060            Fonctionnement  \n",
       "2061            Fonctionnement  \n",
       "2062            Fonctionnement  \n",
       "\n",
       "[2063 rows x 8 columns]"
      ]
     },
     "metadata": {},
     "output_type": "display_data"
    }
   ],
   "source": [
    "import pandas as pd; import numpy as np\n",
    "# Step: Replace missing value with 0 in 'Amount received_mean'\n",
    "df['Amount received_mean'] = df['Amount received_mean'].replace(np.nan, 0)\n",
    "\n",
    "df"
   ]
  },
  {
   "cell_type": "code",
   "execution_count": null,
   "id": "089f456e",
   "metadata": {},
   "outputs": [
    {
     "name": "stderr",
     "output_type": "stream",
     "text": [
      "No such comm: de9a53569e7149cb83722e768465a204\n"
     ]
    }
   ],
   "source": []
  },
  {
   "cell_type": "code",
   "execution_count": 26,
   "id": "1fb9dd07",
   "metadata": {},
   "outputs": [
    {
     "data": {
      "application/vnd.jupyter.widget-view+json": {
       "model_id": "98d9a15eca594c82a87e290e12fc557a"
      },
      "text/plain": [
       "     Business Account  Amount received_mean Business Account_first  \\\n",
       "0              C00001                4800.0                 C00001   \n",
       "1              C00002                 183.0                 C00002   \n",
       "2              C00004                9000.0                 C00004   \n",
       "3              C00005                   0.0                 C00005   \n",
       "4              C00011                 389.0                 C00011   \n",
       "...               ...                   ...                    ...   \n",
       "2058           C21527                   0.0                 C21527   \n",
       "2059           C21528                   0.0                 C21528   \n",
       "2060           C21529                   0.0                 C21529   \n",
       "2061           C21530                   0.0                 C21530   \n",
       "2062           C21537                   0.0                 C21537   \n",
       "\n",
       "     Partner type_first Class Name_first  \\\n",
       "0               Partner       Foundation   \n",
       "1                  None             None   \n",
       "2               Partner     Headquarters   \n",
       "3                  None             None   \n",
       "4               Partner     Headquarters   \n",
       "...                 ...              ...   \n",
       "2058               None             None   \n",
       "2059               None             None   \n",
       "2060               None             None   \n",
       "2061               None             None   \n",
       "2062               None             None   \n",
       "\n",
       "                                  Activity sector_first           City_first  \\\n",
       "0     HEALTH - SOCIAL - Social, Associations, Founda...                 Lyon   \n",
       "1                                                  None                 Lyon   \n",
       "2     BUSINESS ADMINISTRATION - Consulting, Audit, A...                Paris   \n",
       "3                                                  None        Non renseigné   \n",
       "4                            HOTEL - CATERING - TOURISM  Issy-les-moulineaux   \n",
       "...                                                 ...                  ...   \n",
       "2058                                               None                 None   \n",
       "2059                                               None                 None   \n",
       "2060                                               None                 None   \n",
       "2061                                               None                 None   \n",
       "2062                                               None                 None   \n",
       "\n",
       "     Type de financement_first  \n",
       "0               Fonctionnement  \n",
       "1                         None  \n",
       "2                         None  \n",
       "3                         None  \n",
       "4               Fonctionnement  \n",
       "...                        ...  \n",
       "2058            Fonctionnement  \n",
       "2059            Fonctionnement  \n",
       "2060            Fonctionnement  \n",
       "2061            Fonctionnement  \n",
       "2062            Fonctionnement  \n",
       "\n",
       "[2063 rows x 8 columns]"
      ]
     },
     "metadata": {},
     "output_type": "display_data"
    },
    {
     "name": "stderr",
     "output_type": "stream",
     "text": [
      "No such comm: 5e31e09a5deb41d395fce8769f46cca5\n"
     ]
    }
   ],
   "source": [
    "df[\"City_first\"] = df[\"City_first\"].str.capitalize()\n",
    "df "
   ]
  },
  {
   "cell_type": "code",
   "execution_count": 27,
   "id": "5437a85b",
   "metadata": {},
   "outputs": [],
   "source": [
    "cities_to_select = ['Lyon', 'Paris', 'Marseille'] \n",
    "df['City_first'] = df['City_first'].apply(lambda x: x if x in cities_to_select else 'Others')"
   ]
  },
  {
   "cell_type": "code",
   "execution_count": 28,
   "id": "9316a958",
   "metadata": {},
   "outputs": [
    {
     "data": {
      "application/vnd.jupyter.widget-view+json": {
       "model_id": "44bd3d81ad0c4ec3901f39fcd5ac569b"
      },
      "text/plain": [
       "     Business Account  Amount received_mean Business Account_first  \\\n",
       "0              C00001                4800.0                 C00001   \n",
       "1              C00002                 183.0                 C00002   \n",
       "2              C00004                9000.0                 C00004   \n",
       "3              C00005                   0.0                 C00005   \n",
       "4              C00011                 389.0                 C00011   \n",
       "...               ...                   ...                    ...   \n",
       "2058           C21527                   0.0                 C21527   \n",
       "2059           C21528                   0.0                 C21528   \n",
       "2060           C21529                   0.0                 C21529   \n",
       "2061           C21530                   0.0                 C21530   \n",
       "2062           C21537                   0.0                 C21537   \n",
       "\n",
       "      Partner type_first_Inactive partner  \\\n",
       "0                                       0   \n",
       "1                                       0   \n",
       "2                                       0   \n",
       "3                                       0   \n",
       "4                                       0   \n",
       "...                                   ...   \n",
       "2058                                    0   \n",
       "2059                                    0   \n",
       "2060                                    0   \n",
       "2061                                    0   \n",
       "2062                                    0   \n",
       "\n",
       "      Partner type_first_Inactive prospect  Partner type_first_Individual  \\\n",
       "0                                        0                              0   \n",
       "1                                        0                              0   \n",
       "2                                        0                              0   \n",
       "3                                        0                              0   \n",
       "4                                        0                              0   \n",
       "...                                    ...                            ...   \n",
       "2058                                     0                              0   \n",
       "2059                                     0                              0   \n",
       "2060                                     0                              0   \n",
       "2061                                     0                              0   \n",
       "2062                                     0                              0   \n",
       "\n",
       "      Partner type_first_Institutional partner  \\\n",
       "0                                            0   \n",
       "1                                            0   \n",
       "2                                            0   \n",
       "3                                            0   \n",
       "4                                            0   \n",
       "...                                        ...   \n",
       "2058                                         0   \n",
       "2059                                         0   \n",
       "2060                                         0   \n",
       "2061                                         0   \n",
       "2062                                         0   \n",
       "\n",
       "      Partner type_first_Major Partner  Partner type_first_Partner  \\\n",
       "0                                    0                           1   \n",
       "1                                    0                           0   \n",
       "2                                    0                           1   \n",
       "3                                    0                           0   \n",
       "4                                    0                           1   \n",
       "...                                ...                         ...   \n",
       "2058                                 0                           0   \n",
       "2059                                 0                           0   \n",
       "2060                                 0                           0   \n",
       "2061                                 0                           0   \n",
       "2062                                 0                           0   \n",
       "\n",
       "      Partner type_first_Prospect  ...  \\\n",
       "0                               0  ...   \n",
       "1                               0  ...   \n",
       "2                               0  ...   \n",
       "3                               0  ...   \n",
       "4                               0  ...   \n",
       "...                           ...  ...   \n",
       "2058                            0  ...   \n",
       "2059                            0  ...   \n",
       "2060                            0  ...   \n",
       "2061                            0  ...   \n",
       "2062                            0  ...   \n",
       "\n",
       "      Activity sector_first_SECTEUR PUBLIC - Etat & ses établissements publics  \\\n",
       "0                                                     0                          \n",
       "1                                                     0                          \n",
       "2                                                     0                          \n",
       "3                                                     0                          \n",
       "4                                                     0                          \n",
       "...                                                 ...                          \n",
       "2058                                                  0                          \n",
       "2059                                                  0                          \n",
       "2060                                                  0                          \n",
       "2061                                                  0                          \n",
       "2062                                                  0                          \n",
       "\n",
       "      Activity sector_first_TRANSPORT - Freight transport, logistics  \\\n",
       "0                                                     0                \n",
       "1                                                     0                \n",
       "2                                                     0                \n",
       "3                                                     0                \n",
       "4                                                     0                \n",
       "...                                                 ...                \n",
       "2058                                                  0                \n",
       "2059                                                  0                \n",
       "2060                                                  0                \n",
       "2061                                                  0                \n",
       "2062                                                  0                \n",
       "\n",
       "      Activity sector_first_TRANSPORT - Passenger transport  \\\n",
       "0                                                     0       \n",
       "1                                                     0       \n",
       "2                                                     0       \n",
       "3                                                     0       \n",
       "4                                                     0       \n",
       "...                                                 ...       \n",
       "2058                                                  0       \n",
       "2059                                                  0       \n",
       "2060                                                  0       \n",
       "2061                                                  0       \n",
       "2062                                                  0       \n",
       "\n",
       "      Activity sector_first_TRANSPORT - Vehicle Rental & Repair  \\\n",
       "0                                                     0           \n",
       "1                                                     0           \n",
       "2                                                     0           \n",
       "3                                                     0           \n",
       "4                                                     0           \n",
       "...                                                 ...           \n",
       "2058                                                  0           \n",
       "2059                                                  0           \n",
       "2060                                                  0           \n",
       "2061                                                  0           \n",
       "2062                                                  0           \n",
       "\n",
       "      City_first_Lyon  City_first_Marseille  City_first_Others  \\\n",
       "0                   1                     0                  0   \n",
       "1                   1                     0                  0   \n",
       "2                   0                     0                  0   \n",
       "3                   0                     0                  1   \n",
       "4                   0                     0                  1   \n",
       "...               ...                   ...                ...   \n",
       "2058                0                     0                  1   \n",
       "2059                0                     0                  1   \n",
       "2060                0                     0                  1   \n",
       "2061                0                     0                  1   \n",
       "2062                0                     0                  1   \n",
       "\n",
       "      City_first_Paris  Type de financement_first_Fonctionnement  \\\n",
       "0                    0                                         1   \n",
       "1                    0                                         0   \n",
       "2                    1                                         0   \n",
       "3                    0                                         0   \n",
       "4                    0                                         1   \n",
       "...                ...                                       ...   \n",
       "2058                 0                                         1   \n",
       "2059                 0                                         1   \n",
       "2060                 0                                         1   \n",
       "2061                 0                                         1   \n",
       "2062                 0                                         1   \n",
       "\n",
       "      Type de financement_first_Investissement  \n",
       "0                                            0  \n",
       "1                                            0  \n",
       "2                                            0  \n",
       "3                                            0  \n",
       "4                                            0  \n",
       "...                                        ...  \n",
       "2058                                         0  \n",
       "2059                                         0  \n",
       "2060                                         0  \n",
       "2061                                         0  \n",
       "2062                                         0  \n",
       "\n",
       "[2063 rows x 74 columns]"
      ]
     },
     "metadata": {},
     "output_type": "display_data"
    }
   ],
   "source": [
    "import pandas as pd; import numpy as np\n",
    "# Step: OneHotEncode column(s) Partner type_first, Class Name_first, Activity sector_first, City_first, Type de financement_first\n",
    "df = pd.get_dummies(df, columns=['Partner type_first', 'Class Name_first', 'Activity sector_first', 'City_first', 'Type de financement_first'], drop_first=False, dummy_na=False)\n",
    "\n",
    "import pandas as pd; import numpy as np\n",
    "# Step: Drop columns\n",
    "df = df.drop(columns=['Business Account', 'Business Account_first'])\n",
    "\n",
    "# Step: Set values of Amount received_mean to 1 where Amount received_mean != 0 and otherwise to 0\n",
    "tmp_condition = df['Amount received_mean'] != 0\n",
    "df.loc[tmp_condition, 'Amount received_mean'] = 1\n",
    "df.loc[~tmp_condition, 'Amount received_mean'] = 0\n",
    "\n",
    "df"
   ]
  },
  {
   "cell_type": "markdown",
   "id": "8b429fd6",
   "metadata": {},
   "source": [
    "### Model"
   ]
  },
  {
   "cell_type": "code",
   "execution_count": 37,
   "id": "3f223944",
   "metadata": {},
   "outputs": [],
   "source": [
    "import numpy as np\n",
    "import pandas as pd\n",
    "import seaborn as sns\n",
    "import matplotlib.pyplot as plt\n",
    "import warnings\n",
    "warnings.filterwarnings(\"ignore\")\n",
    "\n",
    "from scipy.stats import spearmanr\n",
    "from sklearn.linear_model import LinearRegression\n",
    "\n",
    "from sklearn.model_selection import train_test_split, cross_val_score,GridSearchCV\n",
    "from sklearn.preprocessing import StandardScaler\n",
    "from sklearn.metrics import r2_score, mean_absolute_error, mean_squared_error\n",
    "\n",
    "from sklearn.linear_model import LinearRegression\n",
    "from sklearn.linear_model import Ridge\n",
    "from sklearn.linear_model import Lasso\n",
    "from sklearn.linear_model import ElasticNet\n",
    "from sklearn.ensemble import RandomForestRegressor\n",
    "from sklearn.svm import SVR\n",
    "from xgboost import XGBRegressor\n",
    "from sklearn.preprocessing import PolynomialFeatures\n",
    "\n",
    "from sklearn.model_selection import KFold,cross_val_score,cross_val_predict\n",
    "from sklearn.neural_network import MLPRegressor\n",
    "import time\n",
    "\n",
    "from sklearn.impute import KNNImputer\n",
    "from sklearn.preprocessing import StandardScaler"
   ]
  },
  {
   "cell_type": "code",
   "execution_count": 46,
   "id": "bbae6fb2",
   "metadata": {},
   "outputs": [],
   "source": [
    "X = df.drop(['Amount received_mean'], axis=1)\n",
    "Y = df['Amount received_mean']\n",
    "\n",
    "# Split your data into training and testing sets\n",
    "X_train, X_test, y_train, y_test = train_test_split(X, Y, test_size=0.2, random_state=1)"
   ]
  },
  {
   "cell_type": "markdown",
   "id": "0a306023",
   "metadata": {},
   "source": [
    "## Run the best model "
   ]
  },
  {
   "cell_type": "code",
   "execution_count": 48,
   "id": "7fc1ed67",
   "metadata": {},
   "outputs": [],
   "source": [
    "from sklearn.neighbors import KNeighborsClassifier\n",
    "from sklearn.ensemble import RandomForestClassifier,BaggingClassifier\n",
    "from sklearn.model_selection import KFold,cross_val_score\n",
    "import time"
   ]
  },
  {
   "cell_type": "code",
   "execution_count": 49,
   "id": "36b67b56",
   "metadata": {},
   "outputs": [],
   "source": [
    "from sklearn.model_selection import train_test_split\n",
    "from sklearn.tree import DecisionTreeClassifier\n",
    "from sklearn.neighbors import KNeighborsClassifier\n",
    "from sklearn.neural_network import MLPClassifier\n",
    "from sklearn.metrics import confusion_matrix,accuracy_score,precision_score\n",
    "from sklearn.preprocessing import StandardScaler\n",
    "from sklearn.decomposition import PCA"
   ]
  },
  {
   "cell_type": "code",
   "execution_count": 50,
   "id": "a829346b",
   "metadata": {},
   "outputs": [],
   "source": [
    "clfs = {\n",
    "    'RF': RandomForestClassifier(n_estimators=100, random_state=1), \n",
    "    'BAG': BaggingClassifier(base_estimator=DecisionTreeClassifier(random_state=1),n_estimators=100,random_state=1),\n",
    "    'KNN': KNeighborsClassifier(n_neighbors=5),\n",
    "    'CART': DecisionTreeClassifier(criterion='gini',random_state=1),\n",
    "    'ID3': DecisionTreeClassifier(criterion='entropy',random_state=1),\n",
    "    'Stumb': DecisionTreeClassifier(criterion='gini',max_depth=1,random_state=1),\n",
    "    'MLP': MLPClassifier(hidden_layer_sizes=(20,10),random_state=1)\n",
    "}"
   ]
  },
  {
   "cell_type": "code",
   "execution_count": 54,
   "id": "a10cb009",
   "metadata": {},
   "outputs": [
    {
     "data": {
      "text/plain": [
       "1.0    1007\n",
       "0.0     643\n",
       "Name: Amount received_mean, dtype: int64"
      ]
     },
     "execution_count": 54,
     "metadata": {},
     "output_type": "execute_result"
    }
   ],
   "source": [
    "y_train.value_counts()"
   ]
  },
  {
   "cell_type": "code",
   "execution_count": 52,
   "id": "18a8492c",
   "metadata": {},
   "outputs": [],
   "source": [
    "def run_classifieurs(X,Y):\n",
    "    kf = KFold(n_splits=10, shuffle=True, random_state=1) \n",
    "    for i in clfs:\n",
    "        clf = clfs[i]\n",
    "        debut=time.time()\n",
    "        cv_acc = cross_val_score(clf, X, Y, cv=kf,scoring='accuracy')\n",
    "        fin=time.time()\n",
    "        print(\"Accuracy for {0} is: {1:.3f} +/- {2:.3f} en {3:.3f}s\".format(i,\n",
    "                                                                            np.mean(cv_acc),\n",
    "                                                                            np.std(cv_acc),fin-debut))"
   ]
  },
  {
   "cell_type": "code",
   "execution_count": 53,
   "id": "16b28a4b",
   "metadata": {},
   "outputs": [
    {
     "name": "stdout",
     "output_type": "stream",
     "text": [
      "Accuracy for RF is: 0.736 +/- 0.033 en 0.838s\n",
      "Accuracy for BAG is: 0.733 +/- 0.037 en 1.790s\n",
      "Accuracy for KNN is: 0.699 +/- 0.033 en 0.083s\n",
      "Accuracy for CART is: 0.721 +/- 0.037 en 0.050s\n",
      "Accuracy for ID3 is: 0.722 +/- 0.034 en 0.057s\n",
      "Accuracy for Stumb is: 0.655 +/- 0.027 en 0.039s\n",
      "Accuracy for MLP is: 0.721 +/- 0.033 en 5.348s\n"
     ]
    }
   ],
   "source": [
    "run_classifieurs(X_train,y_train)"
   ]
  },
  {
   "cell_type": "code",
   "execution_count": 61,
   "id": "c93a7815",
   "metadata": {
    "scrolled": true
   },
   "outputs": [
    {
     "name": "stdout",
     "output_type": "stream",
     "text": [
      "scoring for Random Forest is: 73.850 en 0.122s\n"
     ]
    },
    {
     "data": {
      "image/png": "[encoded data removed]",
      "text/plain": [
       "<Figure size 800x600 with 1 Axes>"
      ]
     },
     "metadata": {},
     "output_type": "display_data"
    },
    {
     "name": "stdout",
     "output_type": "stream",
     "text": [
      "Classification Report:\n",
      "              precision    recall  f1-score   support\n",
      "\n",
      "         0.0       0.68      0.71      0.70       175\n",
      "         1.0       0.78      0.76      0.77       238\n",
      "\n",
      "    accuracy                           0.74       413\n",
      "   macro avg       0.73      0.74      0.73       413\n",
      "weighted avg       0.74      0.74      0.74       413\n",
      "\n"
     ]
    }
   ],
   "source": [
    "from sklearn.metrics import accuracy_score\n",
    "from sklearn.metrics import accuracy_score, classification_report, confusion_matrix\n",
    "\n",
    "mod=RandomForestClassifier(n_estimators=100, random_state=1)\n",
    "i='Random Forest'\n",
    "debut = time.time()\n",
    "\n",
    "mod.fit(X_train, y_train)\n",
    "y_pred = mod.predict(X_test)\n",
    "scoring = accuracy_score(y_test, y_pred)\n",
    "\n",
    "fin = time.time()\n",
    "print(\"scoring for {0} is: {1:.3f} en {2:.3f}s\".format(i,scoring*100, fin - debut))\n",
    "\n",
    "# Generate a confusion matrix\n",
    "cm = confusion_matrix(y_test, y_pred)\n",
    "\n",
    "# Plot the confusion matrix\n",
    "plt.figure(figsize=(8, 6))\n",
    "sns.heatmap(cm, annot=True, fmt='d', cmap='Blues', cbar=False)\n",
    "plt.xlabel('Predicted')\n",
    "plt.ylabel('True')\n",
    "plt.title('Confusion Matrix')\n",
    "plt.show()\n",
    "\n",
    "# Generate a classification report\n",
    "report = classification_report(y_test, y_pred)\n",
    "print(\"Classification Report:\")\n",
    "print(report)"
   ]
  },
  {
   "cell_type": "code",
   "execution_count": null,
   "id": "7ecaf94b",
   "metadata": {},
   "outputs": [],
   "source": []
  },
  {
   "cell_type": "code",
   "execution_count": null,
   "id": "8f373143",
   "metadata": {},
   "outputs": [],
   "source": []
  },
  {
   "cell_type": "code",
   "execution_count": null,
   "id": "965dda37",
   "metadata": {},
   "outputs": [],
   "source": []
  }
 ],
 "metadata": {
  "kernelspec": {
   "display_name": "Python 3 (ipykernel)",
   "language": "python",
   "name": "python3"
  },
  "language_info": {
   "codemirror_mode": {
    "name": "ipython",
    "version": 3
   },
   "file_extension": ".py",
   "mimetype": "text/x-python",
   "name": "python",
   "nbconvert_exporter": "python",
   "pygments_lexer": "ipython3",
   "version": "3.11.4"
  }
 },
 "nbformat": 4,
 "nbformat_minor": 5
}
